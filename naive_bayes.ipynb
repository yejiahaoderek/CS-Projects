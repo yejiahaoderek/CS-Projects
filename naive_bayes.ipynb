{
 "cells": [
  {
   "cell_type": "markdown",
   "metadata": {},
   "source": [
    "**Jiahao (Derek) Ye**\n",
    "\n",
    "Spring 2020\n",
    "\n",
    "CS 251: Data Analysis and Visualization\n",
    "\n",
    "Project 6: Supervised learning"
   ]
  },
  {
   "cell_type": "code",
   "execution_count": 1,
   "metadata": {},
   "outputs": [],
   "source": [
    "import os\n",
    "import random\n",
    "import numpy as np\n",
    "import matplotlib.pyplot as plt\n",
    "import pandas as pd\n",
    "\n",
    "plt.style.use(['seaborn-colorblind', 'seaborn-darkgrid'])\n",
    "plt.rcParams.update({'font.size': 20})\n",
    "\n",
    "np.set_printoptions(suppress=True, precision=5)\n",
    "\n",
    "# Automatically reload external modules\n",
    "%load_ext autoreload\n",
    "%autoreload 2"
   ]
  },
  {
   "cell_type": "markdown",
   "metadata": {},
   "source": [
    "## Task 3: Naive Bayes Classifier\n",
    "\n",
    "After finishing your email preprocessing pipeline, implement the one other supervised learning algorithm we we will use to classify email, **Naive Bayes**."
   ]
  },
  {
   "cell_type": "markdown",
   "metadata": {},
   "source": [
    "### 3a) Implement Naive Bayes\n",
    "\n",
    "In `naive_bayes.py`, implement the following methods:\n",
    "- Constructor\n",
    "- `train(data, y)`: Train the Naive Bayes classifier so that it records the \"statistics\" of the training set: class priors (i.e. how likely an email is in the training set to be spam or ham?) and the class likelihoods (the probability of a word appearing in each class — spam or ham).\n",
    "- `predict(data)`: Combine the class likelihoods and priors to compute the posterior distribution. The predicted class for a test sample is the class that yields the highest posterior probability.\n",
    "- `accuracy(y, y_pred)`: The usual definition :)\n",
    "\n",
    "\n",
    "#### Bayes rule ingredients: Priors and likelihood (`train`)\n",
    "\n",
    "To compute class predictions (probability that a test example belong to either spam or ham classes), we need to evaluate **Bayes Rule**. This means computing the priors and likelihoods based on the training data.\n",
    "\n",
    "**Prior:** $$P_c = \\frac{N_c}{N}$$ where $P_c$ is the prior for class $c$ (spam or ham), $N_c$ is the number of training samples that belong to class $c$ and $N$ is the total number of training samples.\n",
    "\n",
    "**Likelihood:** $$L_{c,w} = \\frac{N_{c,w} + 1}{N_{c} + M}$$ where\n",
    "- $L_{c,w}$ is the likelihood that word $w$ belongs to class $c$ (*i.e. what we are solving for*)\n",
    "- $N_{c,w}$ is the total count of **word $w$** in emails that are only in class $c$ (*either spam or ham*)\n",
    "- $N_{c}$ is the total number of **all words** that appear in emails of the class $c$ (*total number of words in all spam emails or total number of words in all ham emails*)\n",
    "- $M$ is the number of features (*number of top words*).\n",
    "\n",
    "#### Bayes rule ingredients: Posterior (`predict`)\n",
    "\n",
    "To make predictions, we now combine the prior and likelihood to get the posterior:\n",
    "\n",
    "**Posterior:** $$\\text{Post}_{i, c} = Log(P_c) + \\sum_{j \\in J_i}Log(L_{c,j})$$ where\n",
    "- $\\text{Post}_c$ is the posterior for class $c$ for test sample $i$(*i.e. evidence that email $i$ is spam or ham*). What we are solving for.\n",
    "- $Log(P_c)$ is the logarithm of the prior for class $c$ $P_c$.\n",
    "- $j \\in J_i$ (under the sum) indexes the set of words in the current test sample that have nonzero counts (*i.e. which words show up in the current test set email $i$? $j$ is the index of each of these words.*)\n",
    "- $\\sum_{j \\in J_i}Log(L_{c,j})$: we sum over the log-likelihoods ONLY PERTAINING TO CLASS $c$ at word word indices that appear in the current test email $i$ (i.e. indices at which the counts are > 0)."
   ]
  },
  {
   "cell_type": "code",
   "execution_count": 2,
   "metadata": {
    "collapsed": true
   },
   "outputs": [],
   "source": [
    "from naive_bayes_multinomial import NaiveBayes"
   ]
  },
  {
   "cell_type": "markdown",
   "metadata": {},
   "source": [
    "#### Test `train`"
   ]
  },
  {
   "cell_type": "code",
   "execution_count": 3,
   "metadata": {},
   "outputs": [
    {
     "name": "stdout",
     "output_type": "stream",
     "text": [
      "Your class priors are: [0.24 0.26 0.25 0.25]\n",
      "and should be          [0.24 0.26 0.25 0.25].\n",
      "Your class likelihoods shape is (4, 6) and should be (4, 6).\n",
      "Your likelihoods are:\n",
      "[[0.15116 0.18497 0.17571 0.1463  0.16813 0.17374]\n",
      " [0.16695 0.17437 0.15742 0.16887 0.15677 0.17562]\n",
      " [0.14116 0.1562  0.19651 0.17046 0.17951 0.15617]\n",
      " [0.18677 0.18231 0.15884 0.12265 0.16755 0.18187]]\n",
      "and should be\n",
      "[[0.15116 0.18497 0.17571 0.1463  0.16813 0.17374]\n",
      " [0.16695 0.17437 0.15742 0.16887 0.15677 0.17562]\n",
      " [0.14116 0.1562  0.19651 0.17046 0.17951 0.15617]\n",
      " [0.18677 0.18231 0.15884 0.12265 0.16755 0.18187]]\n"
     ]
    }
   ],
   "source": [
    "num_test_classes = 4\n",
    "np.random.seed(0)\n",
    "data_test = np.random.random(size=(100, 6))\n",
    "y_test = np.random.randint(low=0, high=num_test_classes, size=(100,))\n",
    "\n",
    "nbc = NaiveBayes(num_classes=num_test_classes)\n",
    "nbc.train(data_test, y_test)\n",
    "\n",
    "print(f'Your class priors are: {nbc.class_priors}\\nand should be          [0.24 0.26 0.25 0.25].')\n",
    "print(f'Your class likelihoods shape is {nbc.class_likelihoods.shape} and should be (4, 6).')\n",
    "print(f'Your likelihoods are:\\n{nbc.class_likelihoods}')\n",
    "\n",
    "\n",
    "test_likelihoods = np.array([[0.15116, 0.18497, 0.17571, 0.1463 , 0.16813, 0.17374],\n",
    "       [0.16695, 0.17437, 0.15742, 0.16887, 0.15677, 0.17562],\n",
    "       [0.14116, 0.1562 , 0.19651, 0.17046, 0.17951, 0.15617],\n",
    "       [0.18677, 0.18231, 0.15884, 0.12265, 0.16755, 0.18187]])\n",
    "print(f'and should be\\n{test_likelihoods}')"
   ]
  },
  {
   "cell_type": "markdown",
   "metadata": {},
   "source": [
    "#### Test `predict`"
   ]
  },
  {
   "cell_type": "code",
   "execution_count": 4,
   "metadata": {},
   "outputs": [
    {
     "name": "stdout",
     "output_type": "stream",
     "text": [
      "Your predicted classes are [2 2 2 2] and should be [2 2 2 2].\n"
     ]
    }
   ],
   "source": [
    "num_test_classes = 4\n",
    "np.random.seed(0)\n",
    "data_train = np.random.random(size=(100, 10))\n",
    "data_test = np.random.random(size=(4, 10))\n",
    "y_test = np.random.randint(low=0, high=num_test_classes, size=(100,))\n",
    "\n",
    "nbc = NaiveBayes(num_classes=num_test_classes)\n",
    "nbc.train(data_train, y_test)\n",
    "test_y_pred = nbc.predict(data_test)\n",
    "\n",
    "print(f'Your predicted classes are {test_y_pred} and should be [2 2 2 2].')"
   ]
  },
  {
   "cell_type": "markdown",
   "metadata": {},
   "source": [
    "### 3c) Spam filtering\n",
    "\n",
    "Let's start classifying spam email using the Naive Bayes classifier.\n",
    "\n",
    "- Use `np.load` to load in the train/test split that you created last week.\n",
    "- Use your Naive Bayes classifier on the Enron email dataset!"
   ]
  },
  {
   "cell_type": "markdown",
   "metadata": {},
   "source": [
    "**Question 9:** What accuracy do you get on the test set with Naive Bayes?"
   ]
  },
  {
   "cell_type": "markdown",
   "metadata": {},
   "source": [
    "- Accuracy: 89%"
   ]
  },
  {
   "cell_type": "code",
   "execution_count": 94,
   "metadata": {
    "collapsed": true
   },
   "outputs": [],
   "source": [
    "import email_preprocessor as ep"
   ]
  },
  {
   "cell_type": "code",
   "execution_count": 95,
   "metadata": {
    "collapsed": true
   },
   "outputs": [],
   "source": [
    "# Load your training and test data into numpy ndarrays using np.load()\n",
    "# (the files you created at the end of the previous notebook)\n",
    "train_x = np.load('data/email_train_x.npy')\n",
    "train_y = np.load('data/email_train_y.npy')\n",
    "train_inds = np.load('data/email_train_inds.npy')\n",
    "test_x = np.load('data/email_test_x.npy')\n",
    "test_y = np.load('data/email_test_y.npy')\n",
    "test_inds = np.load('data/email_test_inds.npy')"
   ]
  },
  {
   "cell_type": "code",
   "execution_count": 96,
   "metadata": {
    "collapsed": true
   },
   "outputs": [],
   "source": [
    "# Construct your classifier\n",
    "nbc = NaiveBayes(num_classes=num_test_classes)"
   ]
  },
  {
   "cell_type": "code",
   "execution_count": 98,
   "metadata": {},
   "outputs": [
    {
     "name": "stdout",
     "output_type": "stream",
     "text": [
      "0.8902077151335311\n"
     ]
    }
   ],
   "source": [
    "# Train and test your classifier\n",
    "nbc.train(train_x, train_y)\n",
    "test_y_pred = nbc.predict(test_x)\n",
    "print(nbc.accuracy(test_y, test_y_pred))"
   ]
  },
  {
   "cell_type": "markdown",
   "metadata": {},
   "source": [
    "### 3d) Confusion matrix\n",
    "\n",
    "To get a better sense of the errors that the Naive Bayes classifer makes, you will create a confusion matrix. \n",
    "\n",
    "- Implement `confusion_matrix` in `naive_bayes.py`.\n",
    "- Print out a confusion matrix of the spam classification results."
   ]
  },
  {
   "cell_type": "code",
   "execution_count": 113,
   "metadata": {},
   "outputs": [
    {
     "name": "stdout",
     "output_type": "stream",
     "text": [
      "[[3237.  175.]\n",
      " [ 565. 2763.]]\n"
     ]
    }
   ],
   "source": [
    "print(nbc.confusion_matrix(test_y, test_y_pred))"
   ]
  },
  {
   "cell_type": "markdown",
   "metadata": {},
   "source": [
    "**Question 10:** Interpret the confusion matrix, using the convention that positive detection means spam (*e.g. a false positive means classifying a ham email as spam*). What types of errors are made more frequently by the classifier? What does this mean (*i.e. X (spam/ham) is more likely to be classified than Y (spam/ham) than the other way around*)?\n",
    "\n",
    "**Reminder: Look back at your preprocessing code: which class indices correspond to spam/ham?**\n",
    "\n",
    "**Answer 10:** \n",
    "- The upper-left number is the **True Positive** detections, i.e., number of correct spam detections. The upper-right number is **False Negative**, i.e., the numnber of samples that are classified as ham but are actually spam. The lower-left number is the **False Positive** detections, i.e., the number of emails classified as spam but are actually ham. The lower-right number is the **True Negative** detections, i.e., number of correct ham detections. \n",
    "- Hence, we may calculate that the rate of **FN** is 175/(175+3237)x100% = **5.1%**; and the rate of **FP** is 565/(565+2763)x100% = **17.0%**. \n",
    "- Since FP rate is bigger than FN rate, **more emails will be classified as spam than ham.**"
   ]
  },
  {
   "cell_type": "markdown",
   "metadata": {},
   "source": [
    "### 3e) Investigate the misclassification errors\n",
    "\n",
    "Numbers are nice, but they may not the best for developing your intuition. Sometimes, you want to see what an misclassification *actually* looks like to build your understanding as you look to improve your algorithm. Here, you will take a false positive and a false negative misclassification and retrieve the actual text of the email so see which emails produced the error.\n",
    "\n",
    "- Determine the index of the **FIRST** false positive and false negative misclassification — i.e. 2 indices in total. Remember to use your inds array to figure out the index of the emails BEFORE shuffling happened.\n",
    "- **Section B:** Implement the function `retrieve_emails` in `email_preprocessor.py` to return the string of the raw email at the error indices. (**Sections A/C** have been supplied with this function on Classroom.)\n",
    "- Call your function to print out the two emails that produced misclassifications."
   ]
  },
  {
   "cell_type": "markdown",
   "metadata": {},
   "source": [
    "**Question 11:** What do you think it is about each email that resulted in it being misclassified?\n",
    "\n",
    "**Answer 11:** The spam emails in the training dataset might have many **dates**/**numbers** included, making the algorithm think that a email containing many **date**/**numbers** information is likely to be a spam."
   ]
  },
  {
   "cell_type": "code",
   "execution_count": 115,
   "metadata": {},
   "outputs": [
    {
     "name": "stdout",
     "output_type": "stream",
     "text": [
      "Idx of 1st FP is 24632\n",
      "Idx of 1st FN is 8258\n"
     ]
    }
   ],
   "source": [
    "# Determine the indices of the 1st FP and FN.\n",
    "# Note: spam = 0, ham = 1\n",
    "\n",
    "fp = -1\n",
    "fn = -1\n",
    "for i in range (len(test_y_pred)):\n",
    "    # FP\n",
    "    if (test_y[i] == 1) and (test_y_pred[i] == 0):\n",
    "        fp = test_inds[i]\n",
    "        break\n",
    "for i in range (len(test_y_pred)):\n",
    "    # FN \n",
    "    if (test_y[i] == 0) and (test_y_pred[i] == 1):\n",
    "        fn = test_inds[i]\n",
    "        break\n",
    "print(f'Idx of 1st FP is {fp}')\n",
    "print(f'Idx of 1st FN is {fn}')"
   ]
  },
  {
   "cell_type": "code",
   "execution_count": 116,
   "metadata": {},
   "outputs": [
    {
     "name": "stdout",
     "output_type": "stream",
     "text": [
      "\n",
      "The 1st email that is a false positive (classified as spam, but really not) is:\n",
      "------------------------------------------------------------------------------------------\n",
      "Subject: eastrans nomination effective 1 / 25 / 01\n",
      "please increase deliveries into eastrans to 25 , 000 mmbtu / dy effective\n",
      "9 / 25 / 01 and continue until further notified .\n",
      "the redeliveries will be :\n",
      "7300 mmbtu from fuels cotton valley\n",
      "17 , 700 mmbtu to pg & e\n",
      "------------------------------------------------------------------------------------------\n",
      "The 1st email that is a false negative (classified as ham, but really spam) is:\n",
      "------------------------------------------------------------------------------------------\n",
      "Subject: perfect present for your loved one . our watch gallery has the answer .\n",
      "with the serialnumber and logo , our collections look extra real than michael\n",
      "jackson ¡ ¯ s nose .\n",
      "prefer battery & quartz , winding she had a pug dog with her , and came , she said , to dispose of shares\n",
      "in her tan - yard . she had her papers with her , and we advised her to put them\n",
      "in an envelope , and to write thereon the address of the proprietor of the\n",
      "estate , \" general war - commissary knight , \" & c . happiness , and the images of\n",
      "youth and hope , and spring , all gone together ,\n",
      "------------------------------------------------------------------------------------------\n"
     ]
    }
   ],
   "source": [
    "# Use retrieve_emails() to display the first FP and FN.\n",
    "import email_preprocessor as epp\n",
    "inds = np.array([fp, fn])\n",
    "emails = epp.retrieve_emails(inds)\n",
    "\n",
    "print()\n",
    "print('The 1st email that is a false positive (classified as spam, but really not) is:')\n",
    "print('------------------------------------------------------------------------------------------')\n",
    "print(emails[0])\n",
    "print('------------------------------------------------------------------------------------------')\n",
    "print('The 1st email that is a false negative (classified as ham, but really spam) is:')\n",
    "print('------------------------------------------------------------------------------------------')\n",
    "print(emails[1])\n",
    "print('------------------------------------------------------------------------------------------')"
   ]
  },
  {
   "cell_type": "markdown",
   "metadata": {},
   "source": [
    "## Task 4) Comparison with KNN\n",
    "\n",
    "\n",
    "- Run a similar analysis to what you did with Naive Bayes above. When computing accuracy on the test set, you may want to reduce the size of the test set (e.g. to the first 500 emails in the test set).\n",
    "- Copy-paste your `confusion_matrix` method into `knn.py` so that you can run the same analysis on a KNN classifier."
   ]
  },
  {
   "cell_type": "code",
   "execution_count": 118,
   "metadata": {
    "collapsed": true
   },
   "outputs": [],
   "source": [
    "from knn import KNN"
   ]
  },
  {
   "cell_type": "code",
   "execution_count": 192,
   "metadata": {},
   "outputs": [
    {
     "data": {
      "image/png": "[encoded data removed]",
      "text/plain": [
       "<Figure size 432x288 with 1 Axes>"
      ]
     },
     "metadata": {},
     "output_type": "display_data"
    }
   ],
   "source": [
    "# Construct and train your KNN classifier\n",
    "np.random.seed(0)\n",
    "classifier = KNN(num_classes=2)\n",
    "classifier.train(train_x, train_y)\n",
    "\n",
    "def test(train, trainy, test, testy, iteration):\n",
    "    classifier.train(train, trainy)\n",
    "    acc = []\n",
    "    ks = []\n",
    "    k = 1\n",
    "    for i in range(iteration):\n",
    "        y_pred = classifier.predict(test, k)\n",
    "        acc.append(classifier.accuracy(y=testy, y_pred=y_pred))\n",
    "        ks.append(k)\n",
    "        k += 1\n",
    "    return ks, acc\n",
    "        \n",
    "x,y = test(train_x, train_y, test_x[:500], test_y[:500], 5)\n",
    "plt.plot(x, y)\n",
    "plt.show()"
   ]
  },
  {
   "cell_type": "markdown",
   "metadata": {},
   "source": [
    "- According to the graph, I chose **k=1**"
   ]
  },
  {
   "cell_type": "code",
   "execution_count": 193,
   "metadata": {},
   "outputs": [],
   "source": [
    "# Construct and train your KNN classifier\n",
    "num_test = 500\n",
    "classifier = KNN(num_classes=2)\n",
    "classifier.train(train_x, train_y)\n",
    "test_y_pred = classifier.predict(test_x[:num_test], 1)"
   ]
  },
  {
   "cell_type": "code",
   "execution_count": 194,
   "metadata": {},
   "outputs": [
    {
     "name": "stdout",
     "output_type": "stream",
     "text": [
      "KNN accuracy: 91.8%\n"
     ]
    }
   ],
   "source": [
    "# Evaluate the accuracy of the KNN classifier\n",
    "acc = classifier.accuracy(test_y[:num_test], test_y_pred)\n",
    "print(f'KNN accuracy: {acc * 100}%')"
   ]
  },
  {
   "cell_type": "code",
   "execution_count": 195,
   "metadata": {},
   "outputs": [
    {
     "name": "stdout",
     "output_type": "stream",
     "text": [
      "[[244.  20.]\n",
      " [ 21. 215.]]\n"
     ]
    }
   ],
   "source": [
    "print(classifier.confusion_matrix(y=test_y[:num_test], y_pred=test_y_pred))"
   ]
  },
  {
   "cell_type": "markdown",
   "metadata": {},
   "source": [
    "**Question 12:** What accuracy did you get on the test set (potentially reduced in size)?\n",
    "\n",
    "**Answer 12:** KNN produced predictions with accuracy of **91.8%**.\n",
    "\n",
    "**Question 13:** How does the confusion matrix compare to that obtained by Naive Bayes?\n",
    "\n",
    "**Answer 13:** \n",
    "- For KNN's confusion matrix, \n",
    "- **FN rate** = 20/(244+20)x100% = **7.6%** (slightly > Bayes's 5.1%); \n",
    "- **FP rate** = 21/(21+1215)x100% = **1.7%** (significantly < Bayes'17\n",
    "- To conclude, KNN has a much smaller FP rate and slightly bigger FN rate than those of Bayes' classifier.\n",
    "\n",
    "**Question 14:** Briefly describe at least one pro/con of KNN compared to Naive Bayes on this dataset.\n",
    "\n",
    "**Answer 14:**\n",
    "- Pro: KNN is **more accurate**\n",
    "- Con: KNN uses significantly more memory because it is memory-based algorithm, so it's more **time/memory-consuming**\n",
    "\n",
    "**Question 15:** When potentially reducing the size of the test set here, why is it important that we shuffled our train and test set?\n",
    "\n",
    "**Answer 15:** The training/testing set might be organized in a way such that all the spams occur first, and all the hams occur later. If we don't shuffle this test set, we might be only comparing all spams in the scenario described above."
   ]
  },
  {
   "cell_type": "markdown",
   "metadata": {},
   "source": [
    "## Extensions (Section B only)"
   ]
  },
  {
   "cell_type": "markdown",
   "metadata": {},
   "source": [
    "### 1. Better text preprocessing\n",
    "\n",
    "- If you look at the top words extracted from the email dataset, many of them are common \"stop words\" (e.g. a, the, to, etc.) that do not carry much meaning when it comes to differentiating between spam vs. non-spam email. Improve your preprocessing pipeline by building your top words without stop words. Analyze performance differences."
   ]
  },
  {
   "cell_type": "markdown",
   "metadata": {},
   "source": [
    "### 2. Sample size\n",
    "\n",
    "- Explore how the number of selected samples for the email dataset influences accuracy."
   ]
  },
  {
   "cell_type": "code",
   "execution_count": 276,
   "metadata": {},
   "outputs": [],
   "source": [
    "accuracies = []\n",
    "x = []\n",
    "num_emails = 1000\n",
    "nbc = NaiveBayes(num_classes=num_test_classes)\n",
    "\n",
    "for i in range(10):\n",
    "    nbc.train(train_x[:num_emails], train_y[:num_emails])\n",
    "    test_y_pred = nbc.predict(test_x[:num_emails])\n",
    "    x.append(num_emails)\n",
    "    accuracies.append(nbc.accuracy(test_y[:num_emails], test_y_pred))\n",
    "    num_emails += 1000"
   ]
  },
  {
   "cell_type": "code",
   "execution_count": 277,
   "metadata": {},
   "outputs": [
    {
     "data": {
      "image/png": "[encoded data removed]",
      "text/plain": [
       "<Figure size 432x288 with 1 Axes>"
      ]
     },
     "metadata": {},
     "output_type": "display_data"
    }
   ],
   "source": [
    "y = accuracies\n",
    "plt.plot(x,accuracies)\n",
    "plt.title('Accuracy v.s. # of emails trained')\n",
    "plt.xlabel('# of emails')\n",
    "plt.ylabel('accuracy')\n",
    "plt.show()"
   ]
  },
  {
   "cell_type": "markdown",
   "metadata": {},
   "source": [
    "- From the graph, we can know that in general, the more emails trained, the higher the accuracy.\n",
    "- However, once the number of email trained reaches certain value (in this case, 3000-ish emails), the accuracy then remains almost stable as the #of emails further increases.\n",
    "- That being said, more samples in the training set does not always bring higher accuracy; once the samples are sufficient, reliable accuracy can then be obtained.\n",
    "- This conclusion may guide us to choose training set that are not too large but have enough/sufficient samples to generate reliable predictions."
   ]
  },
  {
   "cell_type": "code",
   "execution_count": null,
   "metadata": {
    "collapsed": true
   },
   "outputs": [],
   "source": []
  },
  {
   "cell_type": "markdown",
   "metadata": {},
   "source": [
    "### 3. Distance metrics\n",
    "- Compare KNN performance with the $L^2$ and $L^1$ distance metrics"
   ]
  },
  {
   "cell_type": "code",
   "execution_count": 236,
   "metadata": {},
   "outputs": [],
   "source": [
    "num_test = 500\n",
    "classifier_l1 = KNN(num_classes=2)\n",
    "classifier_l1.train(train_x, train_y)\n",
    "test_y_pred_l1 = classifier_l1.predict_L1(test_x[:num_test], 1)"
   ]
  },
  {
   "cell_type": "code",
   "execution_count": 237,
   "metadata": {},
   "outputs": [
    {
     "name": "stdout",
     "output_type": "stream",
     "text": [
      "KNN accuracy using L1 distance metric: 90.60000000000001%\n"
     ]
    }
   ],
   "source": [
    "acc_l1 = classifier_l1.accuracy(test_y[:num_test], test_y_pred_l1)\n",
    "print(f'KNN accuracy using L1 distance metric: {acc_l1 * 100}%')"
   ]
  },
  {
   "cell_type": "markdown",
   "metadata": {},
   "source": [
    "- I found that when using L1 distance metric the accuracy (90.6%) is slightly smaller than when using L2 distance metric (91.8%)\n",
    "- Hence, using L2 is relatively more accurate than using L1, but the difference in this case is subtle\n",
    "- Given that, using L1 here may help reduce some computation burden while producing satisfactory results."
   ]
  },
  {
   "cell_type": "markdown",
   "metadata": {},
   "source": [
    "### 4. K-Fold Cross-Validation"
   ]
  },
  {
   "cell_type": "code",
   "execution_count": null,
   "metadata": {
    "collapsed": true
   },
   "outputs": [],
   "source": []
  }
 ],
 "metadata": {
  "kernelspec": {
   "display_name": "Python 3",
   "language": "python",
   "name": "python3"
  },
  "language_info": {
   "codemirror_mode": {
    "name": "ipython",
    "version": 3
   },
   "file_extension": ".py",
   "mimetype": "text/x-python",
   "name": "python",
   "nbconvert_exporter": "python",
   "pygments_lexer": "ipython3",
   "version": "3.7.0"
  }
 },
 "nbformat": 4,
 "nbformat_minor": 2
}
